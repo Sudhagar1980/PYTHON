{
 "cells": [
  {
   "cell_type": "code",
   "execution_count": 1,
   "id": "6f74ff80",
   "metadata": {},
   "outputs": [
    {
     "name": "stdout",
     "output_type": "stream",
     "text": [
      "HOPE AI\n"
     ]
    }
   ],
   "source": [
    "print(\"HOPE AI\")"
   ]
  },
  {
   "cell_type": "code",
   "execution_count": 2,
   "id": "ed949a88",
   "metadata": {},
   "outputs": [
    {
     "name": "stdout",
     "output_type": "stream",
     "text": [
      "Enter your instiute name?  :HOPE AI\n"
     ]
    }
   ],
   "source": [
    "name=input(\"Enter your instiute name?  :\")"
   ]
  },
  {
   "cell_type": "code",
   "execution_count": 4,
   "id": "c1c71727",
   "metadata": {},
   "outputs": [
    {
     "name": "stdout",
     "output_type": "stream",
     "text": [
      "Enter your name  :Raj\n",
      "Enter your age  :15\n",
      "Enter your school name  :Guru school\n",
      "Enter your degree  :B.E CSC\n"
     ]
    }
   ],
   "source": [
    "name=input(\"Enter your name  :\")\n",
    "age=int(input(\"Enter your age  :\"))\n",
    "s_name=input(\"Enter your school name  :\")\n",
    "degree=input(\"Enter your degree  :\")"
   ]
  },
  {
   "cell_type": "code",
   "execution_count": 7,
   "id": "e6acef03",
   "metadata": {},
   "outputs": [
    {
     "name": "stdout",
     "output_type": "stream",
     "text": [
      "a =43\n",
      "b =34\n",
      "add =  77\n"
     ]
    }
   ],
   "source": [
    "a=int(input(\"a =\"))\n",
    "b=int(input(\"b =\"))\n",
    "add=a+b\n",
    "print(\"add = \", add)\n"
   ]
  },
  {
   "cell_type": "code",
   "execution_count": 8,
   "id": "1b8041a6",
   "metadata": {},
   "outputs": [
    {
     "name": "stdout",
     "output_type": "stream",
     "text": [
      "a =43\n",
      "b =34\n",
      "sub =  9\n"
     ]
    }
   ],
   "source": [
    "a=int(input(\"a =\"))\n",
    "b=int(input(\"b =\"))\n",
    "sub=a-b\n",
    "print(\"sub = \", sub)"
   ]
  },
  {
   "cell_type": "code",
   "execution_count": 9,
   "id": "6ab08f1e",
   "metadata": {},
   "outputs": [
    {
     "name": "stdout",
     "output_type": "stream",
     "text": [
      "a =63\n",
      "b =97\n",
      "mul =  6111\n"
     ]
    }
   ],
   "source": [
    "a=int(input(\"a =\"))\n",
    "b=int(input(\"b =\"))\n",
    "mul=a*b\n",
    "print(\"mul = \", mul)"
   ]
  },
  {
   "cell_type": "code",
   "execution_count": 11,
   "id": "0d0fac91",
   "metadata": {},
   "outputs": [
    {
     "name": "stdout",
     "output_type": "stream",
     "text": [
      "a =76\n",
      "b =31\n",
      "Float div =  2.4516129032258065\n"
     ]
    }
   ],
   "source": [
    "a=int(input(\"a =\"))\n",
    "b=int(input(\"b =\"))\n",
    "div=a/b\n",
    "print(\"Float div = \", div)"
   ]
  },
  {
   "cell_type": "code",
   "execution_count": 16,
   "id": "b3359830",
   "metadata": {},
   "outputs": [
    {
     "name": "stdout",
     "output_type": "stream",
     "text": [
      "a =76\n",
      "b =31\n",
      "floor div =  2\n"
     ]
    }
   ],
   "source": [
    "a=int(input(\"a =\"))\n",
    "b=int(input(\"b =\"))\n",
    "c=a//b\n",
    "print(\"floor div = \", c)"
   ]
  },
  {
   "cell_type": "code",
   "execution_count": 13,
   "id": "fe2f5e1a",
   "metadata": {},
   "outputs": [
    {
     "name": "stdout",
     "output_type": "stream",
     "text": [
      "a =76\n",
      "b =31\n",
      "madulo =  14\n"
     ]
    }
   ],
   "source": [
    "a=int(input(\"a =\"))\n",
    "b=int(input(\"b =\"))\n",
    "c=a%b\n",
    "print(\"madulo = \", c)"
   ]
  },
  {
   "cell_type": "code",
   "execution_count": 15,
   "id": "00ea5b3a",
   "metadata": {},
   "outputs": [
    {
     "name": "stdout",
     "output_type": "stream",
     "text": [
      "a =4\n",
      "b =4\n",
      "power =  256\n"
     ]
    }
   ],
   "source": [
    "a=int(input(\"a =\"))\n",
    "b=int(input(\"b =\"))\n",
    "c=a**b\n",
    "print(\"power = \", c)"
   ]
  },
  {
   "cell_type": "code",
   "execution_count": null,
   "id": "bfb81e18",
   "metadata": {},
   "outputs": [],
   "source": []
  }
 ],
 "metadata": {
  "kernelspec": {
   "display_name": "Python 3 (ipykernel)",
   "language": "python",
   "name": "python3"
  },
  "language_info": {
   "codemirror_mode": {
    "name": "ipython",
    "version": 3
   },
   "file_extension": ".py",
   "mimetype": "text/x-python",
   "name": "python",
   "nbconvert_exporter": "python",
   "pygments_lexer": "ipython3",
   "version": "3.11.3"
  }
 },
 "nbformat": 4,
 "nbformat_minor": 5
}
