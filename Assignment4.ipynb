{
 "cells": [
  {
   "cell_type": "code",
   "execution_count": 11,
   "id": "1a71fe5a",
   "metadata": {},
   "outputs": [
    {
     "name": "stdout",
     "output_type": "stream",
     "text": [
      "Sub-feilds in AI are :\n",
      "Machine Learing\n",
      "Neural Networks\n",
      "Vision\n",
      "Robotics\n",
      "Speech Processing\n",
      "Natural Language Processing\n"
     ]
    }
   ],
   "source": [
    "a=\"Sub-feilds in AI are :\"\n",
    "print(a)\n",
    "def my_function(fname):\n",
    "  print(fname)\n",
    "\n",
    "my_function(\"Machine Learing\")\n",
    "my_function(\"Neural Networks\")\n",
    "my_function(\"Vision\")\n",
    "my_function(\"Robotics\")\n",
    "my_function(\"Speech Processing\")\n",
    "my_function(\"Natural Language Processing\")\n"
   ]
  },
  {
   "cell_type": "code",
   "execution_count": 12,
   "id": "413543a8",
   "metadata": {},
   "outputs": [
    {
     "name": "stdout",
     "output_type": "stream",
     "text": [
      "Enter the number :4\n",
      "4 is Even Number\n"
     ]
    }
   ],
   "source": [
    "def OddEven():\n",
    "    num=int(input(\"Enter the number :\"))\n",
    "    if(num%2==0):\n",
    "        print(\"{0} is Even Number\".format(num))\n",
    "        msg=\"odd number\"\n",
    "    else:\n",
    "        print(\"{0) is Odd Number\".format(num))\n",
    "        msg=\"even number\"\n",
    "        return msg\n",
    "OddEven()"
   ]
  },
  {
   "cell_type": "code",
   "execution_count": 13,
   "id": "b54bbb8f",
   "metadata": {},
   "outputs": [
    {
     "name": "stdout",
     "output_type": "stream",
     "text": [
      "Enter the Gender :Male\n",
      "Enter the Age :18\n",
      "NOT ELIGIBLE\n"
     ]
    }
   ],
   "source": [
    "gender=str(input(\"Enter the Gender :\"))\n",
    "age=int(input(\"Enter the Age :\"))\n",
    "def eligible():\n",
    "    if gender==\"Female\":\n",
    "        if age>18:\n",
    "            print(\"ELIGIBLE\")\n",
    "           \n",
    "        else:\n",
    "            print(\"NOT ELIGIBLE\")\n",
    "            \n",
    "    if gender==\"Male\":\n",
    "        if age>21:\n",
    "            print(\"ELIGIBLE\")\n",
    "           \n",
    "        else:\n",
    "            print(\"NOT ELIGIBLE\") \n",
    "            \n",
    "   \n",
    "eligible()"
   ]
  },
  {
   "cell_type": "code",
   "execution_count": 16,
   "id": "2f37d780",
   "metadata": {},
   "outputs": [
    {
     "name": "stdout",
     "output_type": "stream",
     "text": [
      "Subject1 :23\n",
      "Subject2 :45\n",
      "Subject3 :34\n",
      "Subject4 :23\n",
      "Subject5 :23\n",
      "Total  : 148\n",
      "Percentage    : 29.6\n"
     ]
    }
   ],
   "source": [
    "def marksheet():\n",
    "    Subject1=int(input(\"Subject1 :\" ))\n",
    "    Subject2=int(input(\"Subject2 :\" ))\n",
    "    Subject3=int(input(\"Subject3 :\" ))\n",
    "    Subject4=int(input(\"Subject4 :\" ))\n",
    "    Subject5=int(input(\"Subject5 :\" ))\n",
    "    total=Subject1+Subject2+Subject3+Subject4+Subject5\n",
    "    avg=float(total/5)\n",
    "    result=avg\n",
    "    print(\"Total  :\",total)\n",
    "    print(\"Percentage    :\",float(avg))\n",
    "       #if(Subject1>=40)and (Subject2>=40)and (Subject3>=40) and (Subject4>=40):\n",
    "     #   print(\"Result : Pass\")\n",
    "   # else:\n",
    "   #     print(\"Result  : Fail\")\n",
    "marksheet()"
   ]
  },
  {
   "cell_type": "code",
   "execution_count": 18,
   "id": "4bba5789",
   "metadata": {},
   "outputs": [
    {
     "name": "stdout",
     "output_type": "stream",
     "text": [
      "Height :3\n",
      "Breath :4\n",
      "Area of Triangle  : 6.0\n",
      "Height1 :3\n",
      "Height2 :4\n",
      "Breath :45\n",
      "Perimeter of Triangle  : 52\n"
     ]
    },
    {
     "data": {
      "text/plain": [
       "52"
      ]
     },
     "execution_count": 18,
     "metadata": {},
     "output_type": "execute_result"
    }
   ],
   "source": [
    "def triangle():\n",
    "    Height=int(input(\"Height :\"))\n",
    "    Breadth=int(input(\"Breath :\"))\n",
    "    area=(Height*Breadth)/2\n",
    "    msg=area\n",
    "    print(\"Area of Triangle  :\",area)\n",
    "    return area\n",
    "triangle()\n",
    "def perimeter():\n",
    "    Height1=int(input(\"Height1 :\"))\n",
    "    Height2=int(input(\"Height2 :\"))\n",
    "    Breadth=int(input(\"Breath :\"))\n",
    "    perimeter=Height1+Height2+Breadth\n",
    "    msg=perimeter\n",
    "    print(\"Perimeter of Triangle  :\",msg)\n",
    "    return msg\n",
    "perimeter()\n",
    "\n"
   ]
  },
  {
   "cell_type": "code",
   "execution_count": null,
   "id": "be22d89e",
   "metadata": {},
   "outputs": [],
   "source": []
  }
 ],
 "metadata": {
  "kernelspec": {
   "display_name": "Python 3 (ipykernel)",
   "language": "python",
   "name": "python3"
  },
  "language_info": {
   "codemirror_mode": {
    "name": "ipython",
    "version": 3
   },
   "file_extension": ".py",
   "mimetype": "text/x-python",
   "name": "python",
   "nbconvert_exporter": "python",
   "pygments_lexer": "ipython3",
   "version": "3.11.3"
  }
 },
 "nbformat": 4,
 "nbformat_minor": 5
}
