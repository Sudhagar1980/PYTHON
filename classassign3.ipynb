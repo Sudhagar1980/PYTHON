{
 "cells": [
  {
   "cell_type": "code",
   "execution_count": 3,
   "id": "b4922ee9",
   "metadata": {},
   "outputs": [
    {
     "name": "stdout",
     "output_type": "stream",
     "text": [
      "Sub-feild in AI are :\n",
      "Machine Learing\n",
      "Neural Networks\n",
      "Vission\n",
      "Robetics\n",
      "Speech Processing\n",
      "Natuarl Language\n"
     ]
    }
   ],
   "source": [
    "from classassign import AllinOne\n",
    "AllinOne.Subfields()"
   ]
  },
  {
   "cell_type": "code",
   "execution_count": 4,
   "id": "f150c40b",
   "metadata": {},
   "outputs": [
    {
     "name": "stdout",
     "output_type": "stream",
     "text": [
      "Enter a number :52452\n",
      "52452 is Even number\n"
     ]
    }
   ],
   "source": [
    "AllinOne.OddEven()"
   ]
  },
  {
   "cell_type": "code",
   "execution_count": 5,
   "id": "e5ceb39b",
   "metadata": {},
   "outputs": [
    {
     "name": "stdout",
     "output_type": "stream",
     "text": [
      "Enter the Gender :Male\n",
      "Enter the Age :20\n",
      "NOT ELIGIBLE\n"
     ]
    }
   ],
   "source": [
    "AllinOne.Eligible()"
   ]
  },
  {
   "cell_type": "code",
   "execution_count": 6,
   "id": "d695547c",
   "metadata": {},
   "outputs": [
    {
     "name": "stdout",
     "output_type": "stream",
     "text": [
      "Subject1 :98\n",
      "Subject2 :87\n",
      "Subject3 :95\n",
      "Subject4 :95\n",
      "Subject5 :93\n",
      "Total  : 468\n",
      "Percentage    : 93.6\n"
     ]
    }
   ],
   "source": [
    "AllinOne.percentage()"
   ]
  },
  {
   "cell_type": "code",
   "execution_count": 7,
   "id": "25a08b04",
   "metadata": {},
   "outputs": [
    {
     "name": "stdout",
     "output_type": "stream",
     "text": [
      "Height :32\n",
      "Breath :34\n",
      "Area of Triangle  : 544.0\n",
      "Height1 :2\n",
      "Height2 :4\n",
      "Breath :4\n",
      "Perimeter of Triangle  : 10\n"
     ]
    }
   ],
   "source": [
    "AllinOne.triangle()"
   ]
  },
  {
   "cell_type": "code",
   "execution_count": null,
   "id": "376cd9ae",
   "metadata": {},
   "outputs": [],
   "source": []
  }
 ],
 "metadata": {
  "kernelspec": {
   "display_name": "Python 3 (ipykernel)",
   "language": "python",
   "name": "python3"
  },
  "language_info": {
   "codemirror_mode": {
    "name": "ipython",
    "version": 3
   },
   "file_extension": ".py",
   "mimetype": "text/x-python",
   "name": "python",
   "nbconvert_exporter": "python",
   "pygments_lexer": "ipython3",
   "version": "3.11.3"
  }
 },
 "nbformat": 4,
 "nbformat_minor": 5
}
