{
 "cells": [
  {
   "cell_type": "code",
   "execution_count": 9,
   "id": "54bccfc6",
   "metadata": {},
   "outputs": [
    {
     "name": "stdout",
     "output_type": "stream",
     "text": [
      "Sub-feild in AI are :\n",
      "Machine Learing\n",
      "Neural Networks\n",
      "Vission\n",
      "Robetics\n",
      "Speech Processing\n",
      "Natuarl Language\n"
     ]
    }
   ],
   "source": [
    "class SubfeildsInAI():\n",
    "    def Subfields():\n",
    "        a=\"Sub-feild in AI are :\"\n",
    "        course=[\"Machine Learing\",\"Neural Networks\",\"Vission\",\"Robetics\",\"Speech Processing\",\"Natuarl Language\"]\n",
    "        print(a)\n",
    "        for i in course:\n",
    "            print(i)\n",
    "            result=i\n",
    "        \n",
    "SubfeildsInAI.Subfields() "
   ]
  },
  {
   "cell_type": "code",
   "execution_count": 22,
   "id": "4340ae49",
   "metadata": {},
   "outputs": [
    {
     "name": "stdout",
     "output_type": "stream",
     "text": [
      "Enter a number :52452\n",
      "52452 is Even number\n"
     ]
    }
   ],
   "source": [
    "class OddEven():\n",
    "    def OddEven():\n",
    "        num=int(input(\"Enter a number :\"))\n",
    "        if num%2==0:\n",
    "            print(\"{0} is Even number\".format(num))\n",
    "\n",
    "        else:\n",
    "            print(\"{0} is Odd number\".format(num))\n",
    "OddEven.OddEven() \n",
    "\n",
    "\n",
    "    \n",
    "    "
   ]
  },
  {
   "cell_type": "code",
   "execution_count": 30,
   "id": "8221ca0e",
   "metadata": {},
   "outputs": [
    {
     "name": "stdout",
     "output_type": "stream",
     "text": [
      "Enter the Gender :Male\n",
      "Enter the Age :20\n",
      "NOT ELIGIBLE\n"
     ]
    }
   ],
   "source": [
    "class EligibilityForMarriage():\n",
    "    def Eligible():\n",
    "        gender=str(input(\"Enter the Gender :\"))\n",
    "        age=int(input(\"Enter the Age :\"))\n",
    "        if gender==\"Female\":\n",
    "            if age>18:\n",
    "                print(\"ELIGIBLE\")\n",
    "\n",
    "            else:\n",
    "                print(\"NOT ELIGIBLE\")\n",
    "\n",
    "        if gender==\"Male\":\n",
    "            if age>21:\n",
    "                print(\"ELIGIBLE\")\n",
    "\n",
    "            else:\n",
    "                print(\"NOT ELIGIBLE\") \n",
    "\n",
    "   \n",
    "EligibilityForMarriage.Eligible()"
   ]
  },
  {
   "cell_type": "code",
   "execution_count": 32,
   "id": "5005dbef",
   "metadata": {},
   "outputs": [
    {
     "name": "stdout",
     "output_type": "stream",
     "text": [
      "Subject1 :98\n",
      "Subject2 :87\n",
      "Subject3 :95\n",
      "Subject4 :95\n",
      "Subject5 :93\n",
      "Total  : 468\n",
      "Percentage    : 93.6\n"
     ]
    }
   ],
   "source": [
    "class FindPercent():\n",
    "    def percentage():\n",
    "        Subject1=int(input(\"Subject1 :\" ))\n",
    "        Subject2=int(input(\"Subject2 :\" ))\n",
    "        Subject3=int(input(\"Subject3 :\" ))\n",
    "        Subject4=int(input(\"Subject4 :\" ))\n",
    "        Subject5=int(input(\"Subject5 :\" ))\n",
    "        total=Subject1+Subject2+Subject3+Subject4+Subject5\n",
    "        avg=float(total/5)\n",
    "        result=avg\n",
    "        print(\"Total  :\",total)\n",
    "        print(\"Percentage    :\",float(avg))\n",
    "FindPercent.percentage()"
   ]
  },
  {
   "cell_type": "code",
   "execution_count": 40,
   "id": "4292ed5d",
   "metadata": {},
   "outputs": [
    {
     "name": "stdout",
     "output_type": "stream",
     "text": [
      "Height :32\n",
      "Breath :34\n",
      "Area of Triangle  : 544.0\n",
      "Height1 :2\n",
      "Height2 :4\n",
      "Breath :4\n",
      "Perimeter of Triangle  : 10\n"
     ]
    }
   ],
   "source": [
    "class triangle():\n",
    "    def triangle():\n",
    "        Height=int(input(\"Height :\"))\n",
    "        Breadth=int(input(\"Breath :\"))\n",
    "        area=(Height*Breadth)/2\n",
    "        msg=area\n",
    "        print(\"Area of Triangle  :\",area)\n",
    "        Height1=int(input(\"Height1 :\"))\n",
    "        Height2=int(input(\"Height2 :\"))\n",
    "        Breadth=int(input(\"Breath :\"))\n",
    "        perimeter=Height1+Height2+Breadth\n",
    "        msg=perimeter\n",
    "        print(\"Perimeter of Triangle  :\",msg)\n",
    "triangle.triangle()\n"
   ]
  },
  {
   "cell_type": "code",
   "execution_count": null,
   "id": "8ff685c7",
   "metadata": {},
   "outputs": [],
   "source": []
  }
 ],
 "metadata": {
  "kernelspec": {
   "display_name": "Python 3 (ipykernel)",
   "language": "python",
   "name": "python3"
  },
  "language_info": {
   "codemirror_mode": {
    "name": "ipython",
    "version": 3
   },
   "file_extension": ".py",
   "mimetype": "text/x-python",
   "name": "python",
   "nbconvert_exporter": "python",
   "pygments_lexer": "ipython3",
   "version": "3.11.3"
  }
 },
 "nbformat": 4,
 "nbformat_minor": 5
}
